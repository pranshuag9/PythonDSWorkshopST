{
 "cells": [
  {
   "cell_type": "code",
   "execution_count": 1,
   "metadata": {},
   "outputs": [],
   "source": [
    "class Student:\n",
    "    def __init__(self, name=\"\", roll=0):\n",
    "        self.name = name\n",
    "        self.roll = roll\n",
    "    def __str__(self):\n",
    "        return \"name:{} rollno:{}\".format(self.name,self.roll)\n",
    "    def __hash__(self):\n",
    "        return hash(self.roll)\n",
    "    def __eq__(self, other):\n",
    "        return "
   ]
  },
  {
   "cell_type": "code",
   "execution_count": 6,
   "metadata": {},
   "outputs": [
    {
     "name": "stdout",
     "output_type": "stream",
     "text": [
      "name:abc rollno:1\n",
      "name:pqr rollno:4\n",
      "name:xyz rollno:5\n",
      "\n",
      "\n",
      "name:abc rollno:1\n",
      "name:pqr rollno:4\n",
      "name:xyz rollno:5\n",
      "\n",
      "\n",
      "name:abc rollno:1\n",
      "name:pqr rollno:4\n",
      "name:xyz rollno:5\n",
      "\n",
      "\n",
      "after: \n"
     ]
    }
   ],
   "source": [
    "student_detail = []\n",
    "def add_student(student):\n",
    "    student_detail.append(student)\n",
    "\n",
    "def print_stu_details(student):\n",
    "    for stu in student_detail:\n",
    "        print(stu)\n",
    "    print('\\n')\n",
    "def update_stu(student, newroll):\n",
    "    student.roll = newroll\n",
    "def remove_student(student, newroll):\n",
    "    student_detail.remove(student)\n",
    "\n",
    "s1 = Student(\"abc\",1)\n",
    "s2 = Student(\"pqr\",4)\n",
    "s3 = Student(\"xyz\",5)\n",
    "\n",
    "add_student(s1)\n",
    "add_student(s2)\n",
    "add_student(s3)\n",
    "print_stu_details(s1)\n",
    "print_stu_details(s2)\n",
    "print_stu_details(s3)\n",
    "\n",
    "print(\"after update:\")\n",
    "print_stu_details()"
   ]
  },
  {
   "cell_type": "markdown",
   "metadata": {},
   "source": [
    "### TUPLE PART CONTINUED"
   ]
  },
  {
   "cell_type": "code",
   "execution_count": null,
   "metadata": {},
   "outputs": [],
   "source": [
    "abc = Student(\"abc\", 1)\n",
    "pqr = Student(\"pqr\", 4)\n",
    "xyz = Student(\"xyz\", 3)\n",
    "\n",
    "def print_student_tuple():\n",
    "    for s in student_details:\n",
    "        print(student)\n",
    "    print('\\n')\n",
    "\n",
    "def update_student_tuple(student):\n",
    "    temp = Student()\n",
    "    if student in student_details:\n",
    "        temp = student\n",
    "    temp.roll = 10\n",
    "\n",
    "student_details = (abc,xyz,pqr)\n",
    "print_student_tuple()\n",
    "update_student_tuple()"
   ]
  },
  {
   "cell_type": "markdown",
   "metadata": {},
   "source": [
    "### SET PART CONTINUED"
   ]
  },
  {
   "cell_type": "code",
   "execution_count": 2,
   "metadata": {},
   "outputs": [],
   "source": [
    "student_details = set()\n",
    "def add_student(student):\n",
    "    student_details.add(student)\n",
    "def print_student_details():\n",
    "    for s in student_details:\n",
    "        print(s)\n",
    "    print(\"\\n\")\n",
    "def remove_student(s):\n",
    "    student_details.discard(s)"
   ]
  },
  {
   "cell_type": "code",
   "execution_count": 3,
   "metadata": {},
   "outputs": [
    {
     "name": "stdout",
     "output_type": "stream",
     "text": [
      "name:abc rollno:1\n",
      "name:pqr rollno:3\n",
      "name:xyz rollno:2\n",
      "\n",
      "\n",
      "After removing: \n",
      "name:pqr rollno:3\n",
      "name:xyz rollno:2\n",
      "\n",
      "\n"
     ]
    }
   ],
   "source": [
    "abc = Student(\"abc\", 1)\n",
    "xyz = Student(\"xyz\", 2)\n",
    "pqr = Student(\"pqr\", 3)\n",
    "\n",
    "add_student(abc)\n",
    "add_student(xyz)\n",
    "add_student(pqr)\n",
    "print_student_details()\n",
    "remove_student(abc)\n",
    "print(\"After removing: \")\n",
    "print_student_details()"
   ]
  },
  {
   "cell_type": "code",
   "execution_count": 4,
   "metadata": {},
   "outputs": [],
   "source": [
    "def update_student(s):\n",
    "    if s in student_details:\n",
    "        temp = s\n",
    "    temp.roll = 10"
   ]
  },
  {
   "cell_type": "code",
   "execution_count": 5,
   "metadata": {},
   "outputs": [
    {
     "name": "stdout",
     "output_type": "stream",
     "text": [
      "After updating: \n",
      "name:pqr rollno:3\n",
      "name:xyz rollno:10\n",
      "\n",
      "\n"
     ]
    }
   ],
   "source": [
    "update_student(xyz)\n",
    "print(\"After updating: \")\n",
    "print_student_details()"
   ]
  },
  {
   "cell_type": "code",
   "execution_count": 6,
   "metadata": {},
   "outputs": [
    {
     "name": "stdout",
     "output_type": "stream",
     "text": [
      "After adding mno: \n",
      "name:mno rollno:4\n",
      "name:pqr rollno:3\n",
      "name:xyz rollno:10\n",
      "\n",
      "\n",
      "After Adding qwe: \n",
      "name:mno rollno:4\n",
      "name:mno rollno:4\n",
      "name:pqr rollno:3\n",
      "name:xyz rollno:10\n",
      "\n",
      "\n"
     ]
    }
   ],
   "source": [
    "mno = Student(\"mno\", 4)\n",
    "add_student(mno)\n",
    "print(\"After adding mno: \")\n",
    "print_student_details()\n",
    "qwe = Student(\"mno\", 4)\n",
    "add_student(qwe)\n",
    "print(\"After Adding qwe: \")\n",
    "print_student_details()"
   ]
  },
  {
   "cell_type": "markdown",
   "metadata": {},
   "source": [
    "### DICTIONARY PART CONTINUED"
   ]
  },
  {
   "cell_type": "code",
   "execution_count": 7,
   "metadata": {},
   "outputs": [],
   "source": [
    "student_data = {}\n",
    "def add_student(key, s):\n",
    "    student_data[key] = s"
   ]
  },
  {
   "cell_type": "code",
   "execution_count": 8,
   "metadata": {},
   "outputs": [],
   "source": [
    "s1 = Student('abc', 1)\n",
    "s2 = Student('pqr', 2)\n",
    "s3 = Student('xyz', 3)\n",
    "add_student(s1.name, s1)\n",
    "add_student(s2.name, s2)\n",
    "add_student(s3.name, s3)"
   ]
  },
  {
   "cell_type": "code",
   "execution_count": 9,
   "metadata": {},
   "outputs": [],
   "source": [
    "def print_student_details():\n",
    "    for s, data in student_data.items():\n",
    "        print(s, data)"
   ]
  },
  {
   "cell_type": "code",
   "execution_count": 10,
   "metadata": {},
   "outputs": [
    {
     "name": "stdout",
     "output_type": "stream",
     "text": [
      "abc name:abc rollno:1\n",
      "pqr name:pqr rollno:2\n",
      "xyz name:xyz rollno:3\n"
     ]
    }
   ],
   "source": [
    "print_student_details()"
   ]
  },
  {
   "cell_type": "code",
   "execution_count": 11,
   "metadata": {},
   "outputs": [],
   "source": [
    "def update_student(key, newroll):\n",
    "    student_data[key].roll = newroll"
   ]
  },
  {
   "cell_type": "code",
   "execution_count": 12,
   "metadata": {},
   "outputs": [
    {
     "name": "stdout",
     "output_type": "stream",
     "text": [
      "After updating:\n",
      "abc name:abc rollno:10\n",
      "pqr name:pqr rollno:2\n",
      "xyz name:xyz rollno:3\n"
     ]
    }
   ],
   "source": [
    "update_student(s1.name, 10)\n",
    "print(\"After updating:\")\n",
    "print_student_details()"
   ]
  },
  {
   "cell_type": "code",
   "execution_count": 13,
   "metadata": {},
   "outputs": [],
   "source": [
    "def delete_student(name):\n",
    "    del student_data[name]"
   ]
  },
  {
   "cell_type": "code",
   "execution_count": 14,
   "metadata": {},
   "outputs": [
    {
     "name": "stdout",
     "output_type": "stream",
     "text": [
      "pqr name:pqr rollno:2\n",
      "xyz name:xyz rollno:3\n"
     ]
    }
   ],
   "source": [
    "delete_student(s1.name)\n",
    "print_student_details()"
   ]
  },
  {
   "cell_type": "code",
   "execution_count": null,
   "metadata": {},
   "outputs": [],
   "source": []
  }
 ],
 "metadata": {
  "kernelspec": {
   "display_name": "Python 3",
   "language": "python",
   "name": "python3"
  },
  "language_info": {
   "codemirror_mode": {
    "name": "ipython",
    "version": 3
   },
   "file_extension": ".py",
   "mimetype": "text/x-python",
   "name": "python",
   "nbconvert_exporter": "python",
   "pygments_lexer": "ipython3",
   "version": "3.7.4"
  }
 },
 "nbformat": 4,
 "nbformat_minor": 4
}
