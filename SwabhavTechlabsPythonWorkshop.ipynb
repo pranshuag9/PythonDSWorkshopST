{
 "cells": [
  {
   "cell_type": "markdown",
   "metadata": {},
   "source": [
    "#### Memory Management in Python"
   ]
  },
  {
   "cell_type": "code",
   "execution_count": 1,
   "metadata": {},
   "outputs": [
    {
     "name": "stdout",
     "output_type": "stream",
     "text": [
      "140716568247648\n",
      "140716568247648\n",
      "140716568244448\n",
      "100\n"
     ]
    }
   ],
   "source": [
    "def modify(n):\n",
    "    print(id(n))\n",
    "    n = 0\n",
    "    print(id(n))\n",
    "    pass\n",
    "v = 100\n",
    "print(id(v))\n",
    "modify(v)\n",
    "print(v)"
   ]
  },
  {
   "cell_type": "markdown",
   "metadata": {},
   "source": [
    "#### Printing the Heap Address of variable v using id method"
   ]
  },
  {
   "cell_type": "code",
   "execution_count": 2,
   "metadata": {},
   "outputs": [
    {
     "name": "stdout",
     "output_type": "stream",
     "text": [
      "140716568247648\n"
     ]
    }
   ],
   "source": [
    "print(id(v))"
   ]
  },
  {
   "cell_type": "markdown",
   "metadata": {},
   "source": [
    "#### Changing content of variable v to string"
   ]
  },
  {
   "cell_type": "code",
   "execution_count": 7,
   "metadata": {},
   "outputs": [
    {
     "name": "stdout",
     "output_type": "stream",
     "text": [
      "Memory address of variable v in Heap is: 2460502522544\n"
     ]
    }
   ],
   "source": [
    "v = \"Hello\"\n",
    "print(\"Memory address of variable v in Heap is:\", id(v))"
   ]
  },
  {
   "cell_type": "code",
   "execution_count": 6,
   "metadata": {},
   "outputs": [
    {
     "name": "stdout",
     "output_type": "stream",
     "text": [
      "Memory address of student object s in Heap is: 2460502418184\n",
      "2460502418184\n",
      "2460502418184\n",
      "Roll Number of Student object s is: 10\n"
     ]
    }
   ],
   "source": [
    "class Student:\n",
    "    def __init__(self, name=\"\", roll=0):\n",
    "        self.name = name\n",
    "        self.roll = roll\n",
    "def modify(n):\n",
    "    print(id(n))\n",
    "    n.roll = 10\n",
    "    print(id(n))\n",
    "s = Student('abc', 1)\n",
    "print(\"Memory address of student object s in Heap is:\", id(s))\n",
    "modify(s)\n",
    "print(\"Roll Number of Student object s is:\", s.roll)"
   ]
  },
  {
   "cell_type": "markdown",
   "metadata": {},
   "source": [
    "#### Data Structures in Python\n",
    "- List\n",
    "- Tuple\n",
    "- Set\n",
    "- Dictionary"
   ]
  },
  {
   "cell_type": "markdown",
   "metadata": {},
   "source": [
    "### LIST in Python"
   ]
  },
  {
   "cell_type": "code",
   "execution_count": 14,
   "metadata": {},
   "outputs": [
    {
     "name": "stdout",
     "output_type": "stream",
     "text": [
      "1 2.5 Hello [1, 2, 3] \n",
      "\n",
      "Added 10 at index 1\n",
      "after update:\n",
      "1 10 2.5 Hello [1, 2, 3] \n",
      "\n",
      "Removed 10 from the list\n",
      "1 2.5 Hello [1, 2, 3] \n",
      "\n",
      "Popped [1, 2, 3] from the list\n",
      "1 2.5 Hello \n",
      "\n"
     ]
    }
   ],
   "source": [
    "my_list = []\n",
    "def add_element(n):\n",
    "    my_list.append(n)\n",
    "def print_list():\n",
    "    for num in my_list:\n",
    "        print(num, end=\" \")\n",
    "    print(\"\\n\")\n",
    "def update_list(index, n):\n",
    "    my_list.insert(index, n)\n",
    "    print('Added', n, 'at', 'index', index)\n",
    "\n",
    "def remove_element(n):\n",
    "    my_list.remove(n)\n",
    "    print(\"Removed\", n, \"from the list\")\n",
    "\n",
    "def pop_element():\n",
    "    n = my_list.pop()\n",
    "    print(\"Popped\", n, \"from the list\")\n",
    "\n",
    "add_element(1)\n",
    "add_element(2.5)\n",
    "add_element(\"Hello\")\n",
    "add_element([1,2,3])\n",
    "print_list()\n",
    "\n",
    "update_list(1,10)\n",
    "print(\"after update:\")\n",
    "print_list()\n",
    "\n",
    "remove_element(10)\n",
    "print_list()\n",
    "\n",
    "pop_element()\n",
    "print_list()"
   ]
  },
  {
   "cell_type": "code",
   "execution_count": 15,
   "metadata": {},
   "outputs": [
    {
     "name": "stdout",
     "output_type": "stream",
     "text": [
      "[1, 2, 3, 4]\n"
     ]
    }
   ],
   "source": [
    "num_list = [0,1,2,3,4,5,6,7,8,9]\n",
    "my_slice = num_list[1:5]\n",
    "print(my_slice)"
   ]
  },
  {
   "cell_type": "code",
   "execution_count": null,
   "metadata": {},
   "outputs": [],
   "source": []
  }
 ],
 "metadata": {
  "kernelspec": {
   "display_name": "Python 3",
   "language": "python",
   "name": "python3"
  },
  "language_info": {
   "codemirror_mode": {
    "name": "ipython",
    "version": 3
   },
   "file_extension": ".py",
   "mimetype": "text/x-python",
   "name": "python",
   "nbconvert_exporter": "python",
   "pygments_lexer": "ipython3",
   "version": "3.7.4"
  }
 },
 "nbformat": 4,
 "nbformat_minor": 4
}
