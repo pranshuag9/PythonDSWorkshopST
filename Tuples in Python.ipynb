{
 "cells": [
  {
   "cell_type": "code",
   "execution_count": 1,
   "metadata": {},
   "outputs": [
    {
     "name": "stdout",
     "output_type": "stream",
     "text": [
      "[1, 2, 3] 2 3 abc [111, 222] \n",
      "\n"
     ]
    }
   ],
   "source": [
    "def print_tuple():\n",
    "    for num in my_tuple:\n",
    "        print(num, end=\" \")\n",
    "    print('\\n')\n",
    "\n",
    "my_tuple = ([1,2,3], 2, 3, \"abc\", [111,222])\n",
    "\n",
    "print_tuple()"
   ]
  },
  {
   "cell_type": "markdown",
   "metadata": {},
   "source": [
    "- Tuple is immutable. We can modify mutable objects inside tuple."
   ]
  },
  {
   "cell_type": "code",
   "execution_count": 3,
   "metadata": {},
   "outputs": [
    {
     "name": "stdout",
     "output_type": "stream",
     "text": [
      "[1, 2, 3] 2 3 abc [111, 222] \n",
      "\n",
      "After Updating Tuple: \n",
      "[10, 2, 3] 2 3 abc [111, 222] \n",
      "\n"
     ]
    }
   ],
   "source": [
    "def update_tuple_object():\n",
    "    temp_list = my_tuple[0]\n",
    "    temp_list[0] = 10\n",
    "\n",
    "print_tuple()\n",
    "update_tuple_object()\n",
    "print(\"After Updating Tuple: \")\n",
    "print_tuple()"
   ]
  },
  {
   "cell_type": "code",
   "execution_count": 6,
   "metadata": {},
   "outputs": [
    {
     "name": "stdout",
     "output_type": "stream",
     "text": [
      "abc\n"
     ]
    }
   ],
   "source": [
    "def print_element(index):\n",
    "    print(my_tuple[index])\n",
    "    \n",
    "print_element(3)"
   ]
  },
  {
   "cell_type": "code",
   "execution_count": 7,
   "metadata": {},
   "outputs": [
    {
     "name": "stdout",
     "output_type": "stream",
     "text": [
      "abc\n"
     ]
    }
   ],
   "source": [
    "print_element(-2)"
   ]
  },
  {
   "cell_type": "code",
   "execution_count": null,
   "metadata": {},
   "outputs": [],
   "source": []
  }
 ],
 "metadata": {
  "kernelspec": {
   "display_name": "Python 3",
   "language": "python",
   "name": "python3"
  },
  "language_info": {
   "codemirror_mode": {
    "name": "ipython",
    "version": 3
   },
   "file_extension": ".py",
   "mimetype": "text/x-python",
   "name": "python",
   "nbconvert_exporter": "python",
   "pygments_lexer": "ipython3",
   "version": "3.7.4"
  }
 },
 "nbformat": 4,
 "nbformat_minor": 4
}
